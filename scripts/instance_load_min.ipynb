{
 "cells": [
  {
   "cell_type": "code",
   "execution_count": null,
   "id": "6a50d7d2",
   "metadata": {},
   "outputs": [],
   "source": [
    "# MMDetection 3.x (tested with 3.3.0)\n",
    "from mmengine.config import Config\n",
    "from mmengine.runner import Runner\n",
    "import os\n",
    "\n",
    "# --- 1) Paths you set ---\n",
    "CONFIG ='C:/Users/heheh/mmdetection/configs/mask_rcnn/mask-rcnn_r50_fpn_1x_coco.py'\n",
    "CHECKPOINT = 'C:/Users/heheh/mmdetection/checkpoints/mask_rcnn_r50_fpn_1x_coco_20200205-d4b0c5d6.pth'\n",
    "DATA_ROOT = 'C:/Users/heheh/mmdetection/data/coco'\n",
    "ANN_FILE  = os.path.join(DATA_ROOT, 'annotations', 'instances_val2017.json')\n",
    "IMG_PREFIX = os.path.join(DATA_ROOT, 'instance_maskrcnn_adv')\n",
    "# --- 2) Load config and override dataset/evaluator/paths ---\n",
    "cfg = Config.fromfile(CONFIG)\n",
    "cfg.default_scope = 'mmdet'\n",
    "cfg.load_from = CHECKPOINT\n",
    "cfg.work_dir = './work_dirs/eval_maskrcnn_coco'\n",
    "\n",
    "# Dataloader overrides (batch size/workers as you wish)\n",
    "cfg.test_dataloader.batch_size = 2\n",
    "cfg.test_dataloader.num_workers = 2\n",
    "\n",
    "# Point the test dataloader to your COCO images + annotation file\n",
    "# (keeps the original test pipeline from the config)\n",
    "test_dataset = cfg.test_dataloader.dataset\n",
    "test_dataset.type = 'CocoDataset'\n",
    "test_dataset.data_root = DATA_ROOT\n",
    "test_dataset.ann_file = ANN_FILE\n",
    "test_dataset.data_prefix = dict(img=IMG_PREFIX)\n",
    "test_dataset.test_mode = True\n",
    "test_dataset.indices = list(range(10))\n",
    "\n",
    "# Optional: evaluate on a small subset first (uncomment to limit to N images)\n",
    "# test_dataset.indices = list(range(200))  # evaluate only first 200 images\n",
    "\n",
    "# COCO metric (bbox + segm). You’ll get mAP, AP50, AP75, per-area, etc.\n",
    "cfg.test_evaluator = dict(\n",
    "    type='CocoMetric',\n",
    "    ann_file=ANN_FILE,\n",
    "    metric=['bbox', 'segm'],\n",
    "    format_only=False\n",
    ")\n",
    "\n",
    "# If your config uses visualizer, disable saving images during test\n",
    "if hasattr(cfg, 'visualizer'):\n",
    "    cfg.visualizer.vis_backends = None\n",
    "\n",
    "# --- 3) Run evaluation ---\n",
    "runner = Runner.from_cfg(cfg)\n",
    "runner.test()\n"
   ]
  }
 ],
 "metadata": {
  "language_info": {
   "name": "python"
  }
 },
 "nbformat": 4,
 "nbformat_minor": 5
}
