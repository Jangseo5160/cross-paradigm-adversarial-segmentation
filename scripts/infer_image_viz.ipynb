#!/usr/bin/env python
# -*- coding: utf-8 -*-

"""
Cross-paradigm visualization (works with mmseg==1.2.2 + mmdet==3.3.0)
- DeeplabV3 (MMSeg): uses mmseg.apis.inference.{init_model, inference_model, show_result_pyplot}
- Mask R-CNN / PanopticFPN (MMDet): uses inference_detector + DetLocalVisualizer
- Produces per-cell images and 4x3 grids for Clean / Semantic-Adv / Instance-Adv / Panoptic-Adv
"""

import os
import random
from collections import OrderedDict
from typing import Dict, Tuple, List

import numpy as np
from PIL import Image, ImageDraw, ImageFont
from mmengine.registry import init_default_scope

# ----------------- USER CONFIG -----------------
MMSEG_CFG  = r'C:/Users/heheh/mmsegmentation/configs/deeplabv3/deeplabv3_r50-d8_4xb4-80k_coco-stuff164k-512x512.py'
MMSEG_CKPT = r'C:/Users/heheh/mmsegmentation/checkpoints/deeplabv3_r50-d8_512x512_4x4_80k_coco-stuff164k_20210709_163016-88675c24.pth'

MMDET_MASKRCNN_CFG  = r'C:/Users/heheh/mmdetection/configs/mask_rcnn/mask-rcnn_r50_fpn_1x_coco.py'
MMDET_MASKRCNN_CKPT = r'C:/Users/heheh/mmdetection/checkpoints/mask_rcnn_r50_fpn_1x_coco_20200205-d4b0c5d6.pth'

MMDET_PANO_CFG  = r'C:/Users/heheh/mmdetection/configs/panoptic_fpn/panoptic-fpn_r50_fpn_1x_coco.py'
MMDET_PANO_CKPT = r'C:/Users/heheh/mmdetection/checkpoints/panoptic_fpn_r50_fpn_1x_coco_20210821_101153-9668fd13.pth'

DEVICE = 'cuda'  # 'cuda' or 'cpu'

# Image directories (filenames must match across dirs)
CLEAN_DIR     = r'C:/Users/heheh/mmdetection/data/coco/val2017'
SEM_ADV_DIR   = r'C:/Users/heheh/mmsegmentation/data/semantic_adv_deeplabv3'
INST_ADV_DIR  = r'C:/Users/heheh/mmdetection/data/coco/instance_maskrcnn_adv'
PANO_ADV_DIR  = r'C:/Users/heheh/mmdetection/data/coco/panoptic_fpn_adv'

NUM_IMAGES   = 20      # sample count from CLEAN_DIR (set to None for ALL)
RANDOM_SEED  = 123
OUT_DIR      = r'C:/Users/heheh/cross_paradigm_vis'
RESIZE_TO    = None   # e.g., (512, 512) for perfectly aligned panels
OPACITY_SEG  = 0.75   # overlay opacity for DeeplabV3
# ------------------------------------------------


# ---------------- MMSeg (DeeplabV3) ----------------
# --- DeeplabV3 (MMSeg 1.2.2) init ---
def _init_mmseg_model(cfg, ckpt, device='cuda'):
    # keep using the proven-good trio in mmseg.apis.inference
    from mmseg.apis.inference import init_model as mmseg_init
    # set mmseg scope for building the model and its tiny test pipeline
    init_default_scope('mmseg')
    # (extra safe) make sure mmseg transforms are imported
    try:
        import importlib
        for m in [
            'mmseg.datasets.transforms',
            'mmseg.datasets.transforms.formatting',
            'mmseg.datasets.transforms.loading',
            'mmseg.datasets.transforms.transforms',
        ]:
            importlib.import_module(m)
    except Exception:
        pass

    model = mmseg_init(cfg, ckpt, device=device)
    model.eval()
    return model


# --- DeeplabV3 inference + save overlay ---
def _mmseg_infer_and_save(model, img_path, out_file, opacity=0.75, with_labels=False):
    # ensure we’re in the mmseg scope every time we call MMSeg APIs
    init_default_scope('mmseg')

    from mmseg.apis.inference import inference_model as mmseg_infer
    from mmseg.apis.inference import show_result_pyplot as mmseg_show

    result = mmseg_infer(model, img_path)
    mmseg_show(
        model=model,
        img=img_path,
        result=result,
        opacity=opacity,
        show=False,
        with_labels=with_labels,
        out_file=out_file,
        save_dir=None,
        draw_gt=False,
        draw_pred=True,
        title=''
    )
# ----------------------------------------------------


# ---------------- MMDet (Mask R-CNN / PanopticFPN) ----------------
def _init_mmdet_model(cfg, ckpt, device='cuda'):
    from mmdet.apis import init_detector
    model = init_detector(cfg, ckpt, device=device)
    # ensure a save_dir for the visualizer (prevents warnings)
    if getattr(model, 'visualizer', None) is not None:
        try:
            model.visualizer.set_save_dir(OUT_DIR)
        except Exception:
            pass
    return model

def _mmdet_infer_and_vis(model, img_path, out_file):
    init_default_scope('mmdet')
    from mmdet.apis import inference_detector
    result = inference_detector(model, img_path)  # DetDataSample

    img = np.array(Image.open(img_path).convert('RGB'))
    vis = getattr(model, 'visualizer', None)
    if vis is None:
        from mmdet.visualization import DetLocalVisualizer
        vis = DetLocalVisualizer()
        meta = getattr(model, 'dataset_meta', None) or getattr(model, 'metainfo', None)
        vis.dataset_meta = meta
    else:
        if getattr(vis, 'dataset_meta', None) is None:
            meta = getattr(model, 'dataset_meta', None) or getattr(model, 'metainfo', None)
            vis.dataset_meta = meta

    vis.add_datasample(
        name='pred',
        image=img,
        data_sample=result,
        draw_gt=False,
        out_file=out_file,
        wait_time=0
    )
# ---------------------------------------------------------------


# ----------------- Utilities -----------------
def _collect_basenames(img_dir: str) -> List[str]:
    exts = ('.jpg', '.jpeg', '.png', '.bmp', '.tif', '.tiff', '.webp')
    names = [f for f in os.listdir(img_dir) if f.lower().endswith(exts)]
    names.sort()
    return names

def _maybe_resize(src_path, dst_path, size_wh=None):
    if size_wh is None:
        return src_path
    W, H = size_wh
    img = Image.open(src_path).convert('RGB').resize((W, H), Image.BILINEAR)
    os.makedirs(os.path.dirname(dst_path), exist_ok=True)
    img.save(dst_path, quality=95)
    return dst_path

def _compose_grid(cells: Dict[Tuple[int,int], str],
                  n_rows: int, n_cols: int,
                  titles_row: List[str], titles_col: List[str],
                  out_file: str):
    # Determine max tile size
    tile_w = tile_h = 0
    pil_tiles = {}
    for r in range(n_rows):
        for c in range(n_cols):
            p = cells.get((r, c))
            if p and os.path.isfile(p):
                im = Image.open(p).convert('RGB')
            else:
                im = Image.new('RGB', (640, 480), color=(230,230,230))
                ImageDraw.Draw(im).text((10, 10), "MISSING", fill=(0,0,0))
            pil_tiles[(r,c)] = im
            tile_w = max(tile_w, im.width)
            tile_h = max(tile_h, im.height)

    header_h = 40
    left_w   = 160
    gap = 6
    total_w = left_w + n_cols*tile_w + (n_cols+1)*gap
    total_h = header_h + n_rows*tile_h + (n_rows+1)*gap

    canvas = Image.new('RGB', (total_w, total_h), color=(255,255,255))
    draw = ImageDraw.Draw(canvas)
    try:
        font = ImageFont.truetype("arial.ttf", 20)
    except Exception:
        font = ImageFont.load_default()

    # column headers
    for c in range(n_cols):
        x = left_w + gap + c*(tile_w + gap)
        draw.text((x, gap), titles_col[c], fill=(0,0,0), font=font)

    # rows + paste tiles
    for r in range(n_rows):
        ry = header_h + gap + r*(tile_h + gap)
        draw.text((10, ry + 10), titles_row[r], fill=(0,0,0), font=font)
        for c in range(n_cols):
            x = left_w + gap + c*(tile_w + gap)
            y = header_h + gap + r*(tile_h + gap)
            canvas.paste(pil_tiles[(r,c)], (x, y))

    os.makedirs(os.path.dirname(out_file), exist_ok=True)
    canvas.save(out_file, quality=95)
# ---------------------------------------------


def main():
    random.seed(RANDOM_SEED)
    np.random.seed(RANDOM_SEED)

    for label, d in [('Clean', CLEAN_DIR), ('Semantic-Adv', SEM_ADV_DIR),
                     ('Instance-Adv', INST_ADV_DIR), ('Panoptic-Adv', PANO_ADV_DIR)]:
        if not os.path.isdir(d):
            print(f"[WARN] Directory does not exist: {d} ({label})")

    basenames = _collect_basenames(CLEAN_DIR)
    if NUM_IMAGES is not None and len(basenames) > NUM_IMAGES:
        basenames = random.sample(basenames, NUM_IMAGES)
    print(f"[INFO] Will visualize {len(basenames)} images.")

    vis_dir  = os.path.join(OUT_DIR, 'cells')
    grid_dir = os.path.join(OUT_DIR, 'grids')
    os.makedirs(vis_dir, exist_ok=True)
    os.makedirs(grid_dir, exist_ok=True)

    print("[INFO] Loading models...")
    seg_model  = _init_mmseg_model(MMSEG_CFG, MMSEG_CKPT, device=DEVICE)
    mask_model = _init_mmdet_model(MMDET_MASKRCNN_CFG, MMDET_MASKRCNN_CKPT, device=DEVICE)
    pano_model = _init_mmdet_model(MMDET_PANO_CFG, MMDET_PANO_CKPT, device=DEVICE)

    dataset_rows = OrderedDict([
        ('Clean',        CLEAN_DIR),
        ('Semantic-Adv', SEM_ADV_DIR),
        ('Instance-Adv', INST_ADV_DIR),
        ('Panoptic-Adv', PANO_ADV_DIR),
    ])
    model_cols = OrderedDict([
        ('DeeplabV3',  ('mmseg', seg_model)),
        ('Mask R-CNN', ('mmdet', mask_model)),
        ('PanopticFPN',('mmdet', pano_model)),
    ])

    tmp_resize_root = os.path.join(OUT_DIR, '_tmp_resized') if RESIZE_TO is not None else None
    if tmp_resize_root:
        os.makedirs(tmp_resize_root, exist_ok=True)

    for i, base in enumerate(basenames):
        print(f"[{i+1}/{len(basenames)}] {base}")
        cell_paths: Dict[Tuple[int,int], str] = {}

        for r, (row_name, row_dir) in enumerate(dataset_rows.items()):
            src_img = os.path.join(row_dir, base)
            if not os.path.isfile(src_img):
                print(f"  [WARN] Missing image for row {row_name}: {src_img}")
                resized_path = None
            else:
                if tmp_resize_root:
                    resized_path = _maybe_resize(
                        src_img,
                        os.path.join(tmp_resize_root, row_name, base),
                        RESIZE_TO
                    )
                else:
                    resized_path = src_img

            for c, (col_name, (family, model)) in enumerate(model_cols.items()):
                out_cell = os.path.join(
                    vis_dir,
                    f"{os.path.splitext(base)[0]}__{row_name.replace(' ','_')}__{col_name.replace(' ','_')}.jpg"
                )

                if resized_path is None:
                    cell_paths[(r, c)] = None
                    continue

                try:
                    if family == 'mmseg':
                        _mmseg_infer_and_save(model, resized_path, out_cell, opacity=OPACITY_SEG, with_labels=False)
                    else:
                        _mmdet_infer_and_vis(model, resized_path, out_cell)
                    cell_paths[(r, c)] = out_cell
                except Exception as e:
                    print(f"  [ERR] {col_name} failed on {row_name}/{base}: {e}")
                    cell_paths[(r, c)] = None

        grid_path = os.path.join(grid_dir, f"{os.path.splitext(base)[0]}__grid.jpg")
        _compose_grid(
            cells=cell_paths,
            n_rows=len(dataset_rows),
            n_cols=len(model_cols),
            titles_row=list(dataset_rows.keys()),
            titles_col=list(model_cols.keys()),
            out_file=grid_path
        )

    print(f"[DONE] Grids saved to: {grid_dir}")


if __name__ == '__main__':
    main()
